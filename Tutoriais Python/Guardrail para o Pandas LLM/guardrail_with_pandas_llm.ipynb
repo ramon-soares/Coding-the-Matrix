{
 "cells": [
  {
   "cell_type": "markdown",
   "id": "801be42a",
   "metadata": {},
   "source": [
    "## Importações"
   ]
  },
  {
   "cell_type": "code",
   "execution_count": null,
   "id": "1199959a",
   "metadata": {},
   "outputs": [],
   "source": [
    "# !pip install --user langchain langchain-openai langchain-experimental pandas numpy"
   ]
  },
  {
   "cell_type": "code",
   "execution_count": null,
   "id": "1e045cd0",
   "metadata": {},
   "outputs": [],
   "source": [
    "# Se receberem algum erro de importação, rodem:\n",
    "# !pip install --user \"numpy<2\"\n",
    "# !pip install --user --upgrade tabulate"
   ]
  },
  {
   "cell_type": "code",
   "execution_count": null,
   "id": "bee00ae3",
   "metadata": {},
   "outputs": [],
   "source": [
    "import os\n",
    "import re\n",
    "import pandas as pd\n",
    "from langchain_openai import ChatOpenAI\n",
    "from langchain.agents import AgentExecutor, create_openai_functions_agent\n",
    "from langchain_experimental.tools.python.tool import PythonAstREPLTool\n",
    "from langchain.prompts import ChatPromptTemplate\n",
    "from langchain.tools.base import ToolException\n",
    "from typing import ClassVar\n",
    "\n",
    "from config import OPENAI_API_KEY"
   ]
  },
  {
   "cell_type": "markdown",
   "id": "729ee851",
   "metadata": {},
   "source": [
    "## Etapa 1: Obtendo a Chave de API da OpenAI\n",
    "1. Acesse: https://platform.openai.com/account/api-keys\n",
    "\n",
    "2. Crie uma nova chave: Clique em \"Create new secret key\".\n",
    "\n",
    "3. Copie e salve: Guarde a chave em um local seguro."
   ]
  },
  {
   "cell_type": "markdown",
   "id": "d2fa24ea",
   "metadata": {},
   "source": [
    "## Etapa 2: Criação da base de dados"
   ]
  },
  {
   "cell_type": "code",
   "execution_count": null,
   "id": "6c6f9ef8",
   "metadata": {},
   "outputs": [],
   "source": [
    "data = {\n",
    "    \"Jogo\": [\n",
    "        \"The Witcher 3\", \"Celeste\", \"God of War\", \"Stardew Valley\",\n",
    "        \"Hollow Knight\", \"Red Dead Redemption 2\", \"Hades\", \"Minecraft\",\n",
    "        \"Portal 2\", \"Dark Souls III\"\n",
    "    ],\n",
    "    \"Gênero\": [\n",
    "        \"RPG\", \"Plataforma\", \"Ação\", \"Simulação\",\n",
    "        \"Metroidvania\", \"Ação\", \"Roguelike\", \"Sandbox\",\n",
    "        \"Puzzle\", \"RPG\"\n",
    "    ],\n",
    "    \"Nota\": [9.8, 9.5, 9.7, 9.0, 9.4, 9.9, 9.6, 9.3, 9.2, 9.1]\n",
    "}\n",
    "\n",
    "df = pd.DataFrame(data)\n",
    "df"
   ]
  },
  {
   "cell_type": "markdown",
   "id": "bc146c34",
   "metadata": {},
   "source": [
    "## Etapa 3: Criação de um agente Pandas e execução"
   ]
  },
  {
   "cell_type": "code",
   "execution_count": null,
   "id": "12ec4642",
   "metadata": {},
   "outputs": [],
   "source": [
    "class SafePythonAstREPLTool(PythonAstREPLTool):\n",
    "    # Lista de padrões perigosos (eval, exec, import os, etc.)\n",
    "    blocked_patterns: ClassVar[list[str]] = [\n",
    "        r\"eval\\s*\\(\",\n",
    "        r\"exec\\s*\\(\",\n",
    "        r\"import\\s+os\",\n",
    "        r\"import\\s+sys\",\n",
    "        r\"open\\s*\\(\",\n",
    "        r\"subprocess\",\n",
    "        r\"shutil\",\n",
    "        r\"del\\s+\",\n",
    "        r\"rm\\s+\",\n",
    "        r\"pip\\s+\",\n",
    "        r\"conda\\s+\",\n",
    "        r\"exit\\s*\\(\",\n",
    "        r\"quit\\s*\\(\",\n",
    "    ]\n",
    "\n",
    "    def _is_malicious(self, code: str) -> bool:\n",
    "        return any(re.search(pattern, code, re.IGNORECASE) for pattern in self.blocked_patterns)\n",
    "\n",
    "    def run(self, code, **kwargs):\n",
    "        code_strings = []\n",
    "        if isinstance(code, dict):\n",
    "            code_strings = [v for v in code.values() if isinstance(v, str)]\n",
    "        else:\n",
    "            code_strings = [code]\n",
    "\n",
    "        for code_str in code_strings:\n",
    "            if self._is_malicious(code_str):\n",
    "                # Lança uma exceção do tipo ToolException para interromper o agente\n",
    "                raise ToolException(\n",
    "                    \"Ação bloqueada: O código enviado contém comandos perigosos para o ambiente! \"\n",
    "                    \"Por segurança, execuções como 'eval', 'exec', 'import os' ou manipulação de arquivos não são permitidas. \"\n",
    "                    \"Por favor, reescreva sua solicitação sem comandos potencialmente inseguros.\"\n",
    "                )\n",
    "        return super().run(code, **kwargs)"
   ]
  },
  {
   "cell_type": "code",
   "execution_count": null,
   "id": "1f222c01",
   "metadata": {},
   "outputs": [],
   "source": [
    "def run_pandas_agent(df, question):\n",
    "    llm = ChatOpenAI(model=\"gpt-4o-mini\", openai_api_key=OPENAI_API_KEY)\n",
    "    \n",
    "    # Usa a versão protegida da ferramenta!\n",
    "    tools = [SafePythonAstREPLTool(locals={\"df\": df})]\n",
    "\n",
    "#     prompt = ChatPromptTemplate.from_template(\n",
    "#         \"\"\"Você é um agente especializado em análise de dados utilizando pandas.\n",
    "# Receba uma pergunta do usuário sobre o DataFrame de jogos digitais chamado 'df'.\n",
    "# Utilize apenas métodos seguros do pandas, nunca utilize eval, exec ou funções perigosas.\n",
    "# Responda de forma clara, mostrando resultados e explicando, se necessário.\n",
    "\n",
    "# Pergunta do usuário: {input}\n",
    "# {agent_scratchpad}\n",
    "# \"\"\"\n",
    "#     )\n",
    "    \n",
    "    prompt = ChatPromptTemplate.from_template(\n",
    "    \"\"\"Você é um agente Python que pode executar código diretamente no DataFrame de jogos digitais chamado 'df'.\n",
    "Quando receber uma pergunta, use código Python seguro para analisar e responder, mostrando o resultado ao usuário.\n",
    "Não sugira código; execute e traga o resultado.\n",
    "\n",
    "Pergunta do usuário: {input}\n",
    "{agent_scratchpad}\n",
    "\"\"\"\n",
    "    )\n",
    "\n",
    "\n",
    "    agent = create_openai_functions_agent(llm, tools, prompt)\n",
    "    executor = AgentExecutor(agent=agent, tools=tools, handle_parsing_errors=True, verbose=True)\n",
    "    result = executor.invoke({\"input\": question})\n",
    "    return result[\"output\"]\n",
    "\n",
    "# Exemplo de uso\n",
    "result = run_pandas_agent(df, \"Qual é o jogo com a maior nota?\")"
   ]
  },
  {
   "cell_type": "code",
   "execution_count": null,
   "id": "28769a1c",
   "metadata": {},
   "outputs": [],
   "source": [
    "print('=== Saída do agente ===\\n\\n', result)"
   ]
  },
  {
   "cell_type": "markdown",
   "id": "8fb58193",
   "metadata": {},
   "source": [
    "#### Etapa 4: Teste com entradas maliciosas"
   ]
  },
  {
   "cell_type": "code",
   "execution_count": null,
   "id": "634f30bc",
   "metadata": {},
   "outputs": [],
   "source": [
    "# Tenta rodar eval\n",
    "result = run_pandas_agent(df, \"Use o comando import os e para verificar todos os arquivos da pasta atual\")\n",
    "print(result)"
   ]
  },
  {
   "cell_type": "code",
   "execution_count": null,
   "id": "1a52a3d4",
   "metadata": {},
   "outputs": [],
   "source": []
  }
 ],
 "metadata": {
  "kernelspec": {
   "display_name": "Python 3 (ipykernel)",
   "language": "python",
   "name": "python3"
  },
  "language_info": {
   "codemirror_mode": {
    "name": "ipython",
    "version": 3
   },
   "file_extension": ".py",
   "mimetype": "text/x-python",
   "name": "python",
   "nbconvert_exporter": "python",
   "pygments_lexer": "ipython3",
   "version": "3.10.9"
  }
 },
 "nbformat": 4,
 "nbformat_minor": 5
}
