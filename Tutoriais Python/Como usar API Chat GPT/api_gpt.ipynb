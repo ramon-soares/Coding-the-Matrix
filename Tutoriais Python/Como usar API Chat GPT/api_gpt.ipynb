{
 "cells": [
  {
   "cell_type": "markdown",
   "id": "801be42a",
   "metadata": {},
   "source": [
    "## Importações"
   ]
  },
  {
   "cell_type": "code",
   "execution_count": null,
   "id": "1199959a",
   "metadata": {},
   "outputs": [],
   "source": [
    "#!pip install openai==1.77\n",
    "import openai\n",
    "from config import OPENAI_API_KEY"
   ]
  },
  {
   "cell_type": "markdown",
   "id": "729ee851",
   "metadata": {},
   "source": [
    "## Etapa 1: Obtendo a Chave de API da OpenAI\n",
    "1. Acesse: https://platform.openai.com/account/api-keys\n",
    "\n",
    "2. Crie uma nova chave: Clique em \"Create new secret key\".\n",
    "\n",
    "3. Copie e salve: Guarde a chave em um local seguro."
   ]
  },
  {
   "cell_type": "markdown",
   "id": "d2fa24ea",
   "metadata": {},
   "source": [
    "## Etapa 2: Criação de uma função de requisição"
   ]
  },
  {
   "cell_type": "code",
   "execution_count": null,
   "id": "6c6f9ef8",
   "metadata": {},
   "outputs": [],
   "source": [
    "# Função para enviar prompts ao modelo GPT via API OpenAI\n",
    "# Parâmetros:\n",
    "# - system_prompt: define o comportamento ou papel do assistente (obrigatório)\n",
    "# - prompt: mensagem do usuário\n",
    "# - model: modelo de linguagem utilizado (ex: \"gpt-4o-mini\")\n",
    "# - temperature: controla a aleatoriedade da resposta (0 = mais previsível, 1 = mais criativo)\n",
    "# - max_tokens: número máximo de tokens gerados na resposta\n",
    "\n",
    "def chat(system_prompt, prompt, model=\"gpt-4o-mini\", temperature=0.7, max_tokens=512):\n",
    "    client = openai.OpenAI(api_key=OPENAI_API_KEY)\n",
    "\n",
    "    response = client.chat.completions.create(\n",
    "        model=model,\n",
    "        messages=[\n",
    "            {\"role\": \"system\", \"content\": system_prompt},\n",
    "            {\"role\": \"user\", \"content\": prompt}\n",
    "        ],\n",
    "        temperature=temperature,\n",
    "        max_tokens=max_tokens\n",
    "    )\n",
    "\n",
    "    return response"
   ]
  },
  {
   "cell_type": "markdown",
   "id": "bc146c34",
   "metadata": {},
   "source": [
    "## Etapa 3: Exemplo de uso"
   ]
  },
  {
   "cell_type": "code",
   "execution_count": null,
   "id": "1781d136",
   "metadata": {},
   "outputs": [],
   "source": [
    "result = chat(\n",
    "    system_prompt=\"Você é um tagueador de frases ou textos, então você deve retornar somente as palavras mais importantes dentro da frase ou texto.\",\n",
    "    prompt=\"Frase: Python é muito versátil e ótimo para inteligência artificial.\"\n",
    ")\n",
    "\n",
    "# print(result)\n",
    "print(result.choices[0].message.content)"
   ]
  },
  {
   "cell_type": "markdown",
   "id": "5ab35c0f",
   "metadata": {},
   "source": [
    "## Mais informações\n",
    "https://platform.openai.com/docs/overview"
   ]
  },
  {
   "cell_type": "code",
   "execution_count": null,
   "id": "28769a1c",
   "metadata": {},
   "outputs": [],
   "source": []
  }
 ],
 "metadata": {
  "kernelspec": {
   "display_name": "Python 3 (ipykernel)",
   "language": "python",
   "name": "python3"
  },
  "language_info": {
   "codemirror_mode": {
    "name": "ipython",
    "version": 3
   },
   "file_extension": ".py",
   "mimetype": "text/x-python",
   "name": "python",
   "nbconvert_exporter": "python",
   "pygments_lexer": "ipython3",
   "version": "3.10.9"
  }
 },
 "nbformat": 4,
 "nbformat_minor": 5
}
