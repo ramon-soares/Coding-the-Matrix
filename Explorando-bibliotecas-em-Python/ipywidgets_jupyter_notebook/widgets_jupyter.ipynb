{
 "cells": [
  {
   "cell_type": "markdown",
   "id": "3371e617",
   "metadata": {},
   "source": [
    "## Instalação e Ativação das Bibliotecas"
   ]
  },
  {
   "cell_type": "markdown",
   "id": "6299c538",
   "metadata": {},
   "source": [
    "Observação: Execute esta célula no terminal ou em uma célula do Jupyter Notebook (com ! antes dos comandos) para instalar as bibliotecas necessárias e ativar os widgets."
   ]
  },
  {
   "cell_type": "code",
   "execution_count": null,
   "id": "0fe6bd27",
   "metadata": {},
   "outputs": [],
   "source": [
    "# Instalação das bibliotecas necessárias (execute no terminal ou em uma célula do notebook)\n",
    "#!pip install pandas plotly ipywidgets seaborn\n",
    "\n",
    "# Após a instalação, ative os widgets (execute no terminal ou em uma célula do notebook)\n",
    "#!jupyter nbextension enable --py widgetsnbextension"
   ]
  },
  {
   "cell_type": "markdown",
   "id": "c55e918c",
   "metadata": {},
   "source": [
    "## Documentação das Bibliotecas\n",
    "\n",
    "- [Pandas](https://pandas.pydata.org/docs/): Biblioteca para manipulação e análise de dados;\n",
    "- [Plotly Express](https://plotly.com/python/plotly-express/): Biblioteca para criação de gráficos interativos;\n",
    "- [Seaborn](https://seaborn.pydata.org/): Biblioteca para visualização estatística de dados com alta integração com o Pandas;\n",
    "- [ipywidgets](https://ipywidgets.readthedocs.io/en/stable/): Biblioteca para criação de controles (widgets) interativos no Jupyter."
   ]
  },
  {
   "cell_type": "markdown",
   "id": "7eedbaf7",
   "metadata": {},
   "source": [
    "## Importações"
   ]
  },
  {
   "cell_type": "code",
   "execution_count": null,
   "id": "2d11623a",
   "metadata": {},
   "outputs": [],
   "source": [
    "import pandas as pd\n",
    "import seaborn as sns\n",
    "import plotly.express as px\n",
    "import ipywidgets as widgets\n",
    "from ipywidgets import interact\n",
    "from IPython.display import display"
   ]
  },
  {
   "cell_type": "markdown",
   "id": "3f3b650d",
   "metadata": {},
   "source": [
    "## Exemplo 1 – Filtro Interativo para o Dataset Tips (Total da Conta)"
   ]
  },
  {
   "cell_type": "code",
   "execution_count": null,
   "id": "9d1c166c",
   "metadata": {},
   "outputs": [],
   "source": [
    "# =============================================================================\n",
    "# Exemplo 1: Filtro Interativo no Dataset Tips por valor da conta e gênero\n",
    "# =============================================================================\n",
    "# Este exemplo utiliza o dataset Tips para filtrar os dados com base no total\n",
    "# da conta (total_bill) e no sexo do cliente.\n",
    "#\n",
    "# Parâmetros:\n",
    "#   - bill_min: valor mínimo da conta.\n",
    "#   - bill_max: valor máximo da conta.\n",
    "#   - sex_filter: filtro para o sexo do cliente (\"Masculino\", \"Feminino\", \"Todos\").\n",
    "\n",
    "# Carrega o dataset\n",
    "df_tips = sns.load_dataset('tips')\n",
    "df_tips.sample(5)"
   ]
  },
  {
   "cell_type": "code",
   "execution_count": null,
   "id": "8a347f13",
   "metadata": {},
   "outputs": [],
   "source": [
    "# Código do Exemplo 1\n",
    "def update_tips_table(bill_min, bill_max, sex_filter):\n",
    "    \"\"\"\n",
    "    Filtra o dataset Tips por faixa de total_bill e sexo.\n",
    "    \n",
    "    Parâmetros:\n",
    "      - bill_min: valor mínimo da conta.\n",
    "      - bill_max: valor máximo da conta.\n",
    "      - sex_filter: filtro de sexo ('Masculino', 'Feminino', 'Todos').\n",
    "    \"\"\"\n",
    "    \n",
    "    df_filtered = df_tips[\n",
    "        (df_tips['total_bill'] >= bill_min) &\n",
    "        (df_tips['total_bill'] <= bill_max)\n",
    "    ]\n",
    "    \n",
    "    if sex_filter != \"Todos\":\n",
    "        sex_map = {\"Masculino\": \"Male\", \"Feminino\": \"Female\"}\n",
    "        df_filtered = df_filtered[df_filtered[\"sex\"] == sex_map[sex_filter]]\n",
    "    \n",
    "    display(df_filtered)\n",
    "\n",
    "# Widgets\n",
    "bill_min_slider = widgets.FloatSlider(\n",
    "    value=df_tips['total_bill'].min(),\n",
    "    min=df_tips['total_bill'].min(),\n",
    "    max=df_tips['total_bill'].max(),\n",
    "    step=0.5,\n",
    "    description='Conta Mínima:'\n",
    ")\n",
    "\n",
    "bill_max_slider = widgets.FloatSlider(\n",
    "    value=df_tips['total_bill'].max(),\n",
    "    min=df_tips['total_bill'].min(),\n",
    "    max=df_tips['total_bill'].max(),\n",
    "    step=0.5,\n",
    "    description='Conta Máxima:'\n",
    ")\n",
    "\n",
    "sex_dropdown = widgets.Dropdown(\n",
    "    options=[\"Todos\", \"Masculino\", \"Feminino\"],\n",
    "    value=\"Todos\",\n",
    "    description=\"Sexo:\"\n",
    ")\n",
    "\n",
    "interact(update_tips_table, bill_min=bill_min_slider, bill_max=bill_max_slider, sex_filter=sex_dropdown)"
   ]
  },
  {
   "cell_type": "markdown",
   "id": "ddffdb5a",
   "metadata": {},
   "source": [
    "## Exemplo 2 – Gráfico Interativo com o Dataset Gapminder"
   ]
  },
  {
   "cell_type": "code",
   "execution_count": null,
   "id": "f167559e",
   "metadata": {},
   "outputs": [],
   "source": [
    "# =============================================================================\n",
    "# Exemplo 2: Gráfico Interativo com Gapminder (filtro por continente)\n",
    "# =============================================================================\n",
    "# Este exemplo cria um gráfico de dispersão interativo com dados do Gapminder.\n",
    "# Permite filtrar o gráfico por ano e por continentes usando checkboxes.\n",
    "#\n",
    "# Parâmetros:\n",
    "#   - selected_year: ano escolhido para visualização.\n",
    "#   - selected_continents: continentes selecionados por checkbox.\n",
    "#\n",
    "# O gráfico mostra:\n",
    "#   - PIB per capita no eixo x.\n",
    "#   - Expectativa de vida no eixo y.\n",
    "#   - Tamanho da bolha proporcional à população.\n",
    "\n",
    "# Carrega os dados\n",
    "df_gapminder = px.data.gapminder()\n",
    "df_gapminder.sample(5)"
   ]
  },
  {
   "cell_type": "code",
   "execution_count": null,
   "id": "d85c6fd4",
   "metadata": {},
   "outputs": [],
   "source": [
    "# Código do Exemplo 2\n",
    "def update_gapminder(selected_year, asia, europe, africa, americas, oceania):\n",
    "    \"\"\"\n",
    "    Cria gráfico interativo filtrando por ano e continentes.\n",
    "    \n",
    "    Parâmetros:\n",
    "      - selected_year: ano selecionado.\n",
    "      - asia, europe, africa, americas, oceania: booleanos para inclusão dos continentes.\n",
    "    \"\"\"\n",
    "    selected = []\n",
    "    if asia: selected.append(\"Asia\")\n",
    "    if europe: selected.append(\"Europe\")\n",
    "    if africa: selected.append(\"Africa\")\n",
    "    if americas: selected.append(\"Americas\")\n",
    "    if oceania: selected.append(\"Oceania\")\n",
    "    \n",
    "    df_filtered = df_gapminder[\n",
    "        (df_gapminder['year'] == selected_year) &\n",
    "        (df_gapminder['continent'].isin(selected))\n",
    "    ]\n",
    "    \n",
    "    fig = px.scatter(\n",
    "        df_filtered,\n",
    "        x=\"gdpPercap\", \n",
    "        y=\"lifeExp\",\n",
    "        size=\"pop\",\n",
    "        color=\"continent\",\n",
    "        hover_name=\"country\",\n",
    "        size_max=50,\n",
    "        title=f\"PIB per Capita x Expectativa de Vida – {selected_year}\",\n",
    "        labels={\n",
    "            \"gdpPercap\": \"PIB per Capita\",\n",
    "            \"lifeExp\": \"Expectativa de Vida (anos)\",\n",
    "            \"pop\": \"População\",\n",
    "            \"continent\": \"Continente\",\n",
    "            \"country\": \"País\"\n",
    "        }\n",
    "    )\n",
    "    \n",
    "    fig.update_layout(\n",
    "        title_font_size=22,\n",
    "        xaxis_title=\"PIB per Capita\",\n",
    "        yaxis_title=\"Expectativa de Vida\",\n",
    "        legend_title=\"Continente\"\n",
    "    )\n",
    "    \n",
    "    fig.show()\n",
    "\n",
    "# Widgets\n",
    "year_slider = widgets.IntSlider(\n",
    "    value=2007,\n",
    "    min=df_gapminder['year'].min(),\n",
    "    max=df_gapminder['year'].max(),\n",
    "    step=5,\n",
    "    description='Ano:'\n",
    ")\n",
    "\n",
    "# Checkboxes para continentes\n",
    "asia_cb = widgets.Checkbox(value=True, description='Ásia')\n",
    "europe_cb = widgets.Checkbox(value=True, description='Europa')\n",
    "africa_cb = widgets.Checkbox(value=True, description='África')\n",
    "americas_cb = widgets.Checkbox(value=True, description='Américas')\n",
    "oceania_cb = widgets.Checkbox(value=True, description='Oceania')\n",
    "\n",
    "# Interface interativa\n",
    "interact(\n",
    "    update_gapminder,\n",
    "    selected_year=year_slider,\n",
    "    asia=asia_cb,\n",
    "    europe=europe_cb,\n",
    "    africa=africa_cb,\n",
    "    americas=americas_cb,\n",
    "    oceania=oceania_cb\n",
    ")"
   ]
  },
  {
   "cell_type": "code",
   "execution_count": null,
   "id": "93afbf2b",
   "metadata": {},
   "outputs": [],
   "source": []
  }
 ],
 "metadata": {
  "kernelspec": {
   "display_name": "Python 3 (ipykernel)",
   "language": "python",
   "name": "python3"
  },
  "language_info": {
   "codemirror_mode": {
    "name": "ipython",
    "version": 3
   },
   "file_extension": ".py",
   "mimetype": "text/x-python",
   "name": "python",
   "nbconvert_exporter": "python",
   "pygments_lexer": "ipython3",
   "version": "3.10.9"
  }
 },
 "nbformat": 4,
 "nbformat_minor": 5
}
