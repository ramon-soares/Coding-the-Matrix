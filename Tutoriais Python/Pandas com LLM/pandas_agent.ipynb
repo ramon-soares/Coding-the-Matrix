{
 "cells": [
  {
   "cell_type": "markdown",
   "id": "801be42a",
   "metadata": {},
   "source": [
    "## Importações"
   ]
  },
  {
   "cell_type": "code",
   "execution_count": null,
   "id": "1199959a",
   "metadata": {},
   "outputs": [],
   "source": [
    "# !pip install --user langchain langchain-openai langchain-experimental pandas numpy"
   ]
  },
  {
   "cell_type": "code",
   "execution_count": null,
   "id": "1e045cd0",
   "metadata": {},
   "outputs": [],
   "source": [
    "# Se receberem algum erro de importação, rodem:\n",
    "# !pip install --user \"numpy<2\"\n",
    "# !pip install --user --upgrade tabulate"
   ]
  },
  {
   "cell_type": "code",
   "execution_count": null,
   "id": "bee00ae3",
   "metadata": {},
   "outputs": [],
   "source": [
    "import os\n",
    "import pandas as pd\n",
    "from langchain_openai import ChatOpenAI\n",
    "from langchain.agents import AgentExecutor, create_openai_functions_agent\n",
    "from langchain_experimental.tools.python.tool import PythonAstREPLTool\n",
    "from langchain.prompts import ChatPromptTemplate\n",
    "\n",
    "from config import OPENAI_API_KEY"
   ]
  },
  {
   "cell_type": "markdown",
   "id": "729ee851",
   "metadata": {},
   "source": [
    "## Etapa 1: Obtendo a Chave de API da OpenAI\n",
    "1. Acesse: https://platform.openai.com/account/api-keys\n",
    "\n",
    "2. Crie uma nova chave: Clique em \"Create new secret key\".\n",
    "\n",
    "3. Copie e salve: Guarde a chave em um local seguro."
   ]
  },
  {
   "cell_type": "markdown",
   "id": "d2fa24ea",
   "metadata": {},
   "source": [
    "## Etapa 2: Criação da base de dados"
   ]
  },
  {
   "cell_type": "code",
   "execution_count": null,
   "id": "6c6f9ef8",
   "metadata": {},
   "outputs": [],
   "source": [
    "data = {\n",
    "    \"Jogo\": [\n",
    "        \"The Witcher 3\", \"Celeste\", \"God of War\", \"Stardew Valley\",\n",
    "        \"Hollow Knight\", \"Red Dead Redemption 2\", \"Hades\", \"Minecraft\",\n",
    "        \"Portal 2\", \"Dark Souls III\"\n",
    "    ],\n",
    "    \"Gênero\": [\n",
    "        \"RPG\", \"Plataforma\", \"Ação\", \"Simulação\",\n",
    "        \"Metroidvania\", \"Ação\", \"Roguelike\", \"Sandbox\",\n",
    "        \"Puzzle\", \"RPG\"\n",
    "    ],\n",
    "    \"Nota\": [9.8, 9.5, 9.7, 9.0, 9.4, 9.9, 9.6, 9.3, 9.2, 9.1]\n",
    "}\n",
    "\n",
    "df = pd.DataFrame(data)\n",
    "df"
   ]
  },
  {
   "cell_type": "markdown",
   "id": "bc146c34",
   "metadata": {},
   "source": [
    "## Etapa 3: Criação de um agente Pandas e execução"
   ]
  },
  {
   "cell_type": "code",
   "execution_count": null,
   "id": "1f222c01",
   "metadata": {},
   "outputs": [],
   "source": [
    "def run_pandas_agent(df, question):\n",
    "    # Cria o LLM da OpenAI com o modelo GPT-4o-mini\n",
    "    llm = ChatOpenAI(model=\"gpt-4o-mini\", openai_api_key=OPENAI_API_KEY)\n",
    "\n",
    "    # Disponibiliza o DataFrame 'df' para uso seguro pelo agente Python\n",
    "    tools = [PythonAstREPLTool(locals={\"df\": df})]\n",
    "\n",
    "    # Cria um prompt compatível com o LangChain usando ChatPromptTemplate\n",
    "    prompt = ChatPromptTemplate.from_template(\n",
    "        \"\"\"Você é um agente especializado em análise de dados utilizando pandas.\n",
    "Receba uma pergunta do usuário sobre o DataFrame de jogos digitais chamado 'df'.\n",
    "Utilize apenas métodos seguros do pandas, nunca utilize eval, exec ou funções perigosas.\n",
    "Responda de forma clara, mostrando resultados e explicando, se necessário.\n",
    "\n",
    "Pergunta do usuário: {input}\n",
    "{agent_scratchpad}\n",
    "\"\"\"\n",
    "    )\n",
    "\n",
    "    # Cria o agente LLM com as ferramentas e prompt definidos\n",
    "    agent = create_openai_functions_agent(llm, tools, prompt)\n",
    "\n",
    "    # Executor do agente para processar a consulta\n",
    "    executor = AgentExecutor(agent=agent, tools=tools, handle_parsing_errors=True, verbose=True)\n",
    "\n",
    "    # Executa a consulta do usuário e armazena o resultado\n",
    "    result = executor.invoke({\"input\": question})\n",
    "\n",
    "    # Mostra a resposta obtida do agente\n",
    "    return result[\"output\"]\n",
    "\n",
    "# Exemplo de uso\n",
    "result = run_pandas_agent(df, \"Faça cálculos no df utilizando o método eval\")"
   ]
  },
  {
   "cell_type": "code",
   "execution_count": null,
   "id": "28769a1c",
   "metadata": {},
   "outputs": [],
   "source": [
    "print('=== Saída do agente ===\\n\\n', result)"
   ]
  },
  {
   "cell_type": "code",
   "execution_count": null,
   "id": "951a8677",
   "metadata": {},
   "outputs": [],
   "source": []
  }
 ],
 "metadata": {
  "kernelspec": {
   "display_name": "Python 3 (ipykernel)",
   "language": "python",
   "name": "python3"
  },
  "language_info": {
   "codemirror_mode": {
    "name": "ipython",
    "version": 3
   },
   "file_extension": ".py",
   "mimetype": "text/x-python",
   "name": "python",
   "nbconvert_exporter": "python",
   "pygments_lexer": "ipython3",
   "version": "3.10.9"
  }
 },
 "nbformat": 4,
 "nbformat_minor": 5
}
